{
 "cells": [
  {
   "cell_type": "code",
   "execution_count": 5,
   "metadata": {},
   "outputs": [],
   "source": [
    "import random"
   ]
  },
  {
   "cell_type": "code",
   "execution_count": 1,
   "metadata": {},
   "outputs": [],
   "source": [
    "class GridWorld():\n",
    "    def __init__(self):\n",
    "        self.x=0\n",
    "        self.y=0\n",
    "    \n",
    "    def step(self, a):\n",
    "        if a==0:\n",
    "            self.move_right()\n",
    "        elif a==1:\n",
    "            self.move_left()\n",
    "        elif a==2:\n",
    "            self.move_up()\n",
    "        elif a==3:\n",
    "            self.move_down()\n",
    "        \n",
    "        reward=-1\n",
    "        done=self.is_done()\n",
    "        return (self.x, self.y), reward, done\n",
    "    \n",
    "    def move_right(self):\n",
    "        self.y+=1\n",
    "        if self.y>3:\n",
    "            self.y=3\n",
    "    \n",
    "    def move_left(self):\n",
    "        self.y-=1\n",
    "        if self.y<0:\n",
    "            self.y=0\n",
    "    \n",
    "    def move_up(self):\n",
    "        self.x+=1\n",
    "        if self.x>3:\n",
    "            self.x=3\n",
    "    \n",
    "    def move_down(self):\n",
    "        self.x-=1\n",
    "        if self.x<0:\n",
    "            self.x=0\n",
    "    \n",
    "    def is_done(self):\n",
    "        if self.x==3 and self.y==3:\n",
    "            return True\n",
    "        else:\n",
    "            return False\n",
    "    \n",
    "    def get_state(self):\n",
    "        return (self.x, self.y)\n",
    "    \n",
    "    def reset(self):\n",
    "        self.x=0\n",
    "        self.y=0\n",
    "        return (self.x, self.y)"
   ]
  },
  {
   "cell_type": "code",
   "execution_count": 2,
   "metadata": {},
   "outputs": [],
   "source": [
    "class Agent():\n",
    "    def __init__(self):\n",
    "        pass\n",
    "\n",
    "    def select_action(self):\n",
    "        coin = random.random()\n",
    "        if coin < 0.25:\n",
    "            action = 0\n",
    "        elif coin < 0.5:\n",
    "            action = 1\n",
    "        elif coin < 0.75:\n",
    "            action = 2\n",
    "        else:\n",
    "            action = 3\n",
    "        return action"
   ]
  },
  {
   "cell_type": "code",
   "execution_count": 3,
   "metadata": {},
   "outputs": [],
   "source": [
    "def main():\n",
    "    env = GridWorld()\n",
    "    agent = Agent()\n",
    "    data = [[0,0,0,0],[0,0,0,0],[0,0,0,0],[0,0,0,0]]\n",
    "    gamma = 1.0\n",
    "    alpha = 0.01\n",
    "    for k in range(50000):\n",
    "        done = False\n",
    "        while not done:\n",
    "            x, y = env.get_state()\n",
    "            action = agent.select_action()\n",
    "            (x_prime, y_prime), reward, done = env.step(action)\n",
    "            x_prime, y_prime = env.get_state()\n",
    "\n",
    "            data[x][y] = data[x][y] + alpha*(reward + gamma*data[x_prime][y_prime] - data[x][y])\n",
    "        env.reset()\n",
    "        \n",
    "    for row in data:\n",
    "        print(row)"
   ]
  },
  {
   "cell_type": "code",
   "execution_count": 6,
   "metadata": {},
   "outputs": [
    {
     "name": "stdout",
     "output_type": "stream",
     "text": [
      "[-58.66511130433556, -57.20092637214484, -54.235416492648035, -51.622635154657175]\n",
      "[-56.70418108375465, -54.22746542587337, -50.16321424984596, -46.49806517518162]\n",
      "[-53.58415934855285, -49.40780367290958, -40.31619705884866, -29.3244490932268]\n",
      "[-50.971156051109894, -44.55946105517563, -28.450402859223804, 0]\n"
     ]
    }
   ],
   "source": [
    "main()"
   ]
  },
  {
   "cell_type": "code",
   "execution_count": null,
   "metadata": {},
   "outputs": [],
   "source": []
  }
 ],
 "metadata": {
  "kernelspec": {
   "display_name": "RL101",
   "language": "python",
   "name": "python3"
  },
  "language_info": {
   "codemirror_mode": {
    "name": "ipython",
    "version": 3
   },
   "file_extension": ".py",
   "mimetype": "text/x-python",
   "name": "python",
   "nbconvert_exporter": "python",
   "pygments_lexer": "ipython3",
   "version": "3.8.18"
  }
 },
 "nbformat": 4,
 "nbformat_minor": 2
}
