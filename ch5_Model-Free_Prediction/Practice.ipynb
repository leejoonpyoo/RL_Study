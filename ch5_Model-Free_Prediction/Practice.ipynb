{
 "cells": [
  {
   "cell_type": "code",
   "execution_count": 1,
   "metadata": {},
   "outputs": [],
   "source": [
    "import random"
   ]
  },
  {
   "cell_type": "code",
   "execution_count": 3,
   "metadata": {},
   "outputs": [],
   "source": [
    "class GridWorld():\n",
    "    def __init__(self):\n",
    "        self.x=0\n",
    "        self.y=0\n",
    "    \n",
    "    def step(self, a):\n",
    "        if a==0:\n",
    "            self.move_right()\n",
    "        elif a==1:\n",
    "            self.move_left()\n",
    "        elif self==2:\n",
    "            self.move_up()\n",
    "        elif a==3:\n",
    "            self.move_down()\n",
    "        \n",
    "        reward=-1\n",
    "        done = self.is_done()\n",
    "        return (self.x, self.y), reward, done\n",
    "    \n",
    "    def move_right(self):\n",
    "        self.y += 1\n",
    "        if self.y > 3:\n",
    "            self.y = 3\n",
    "    \n",
    "    def move_left(self):\n",
    "        self.y -= 1\n",
    "        if self.y < 0:\n",
    "            self.y = 0\n",
    "    \n",
    "    def move_up(self):\n",
    "        self.x -= 1\n",
    "        if self.x >3:\n",
    "            self.x = 3\n",
    "    \n",
    "    def move_down(self):\n",
    "        self.x += 1\n",
    "        if self.x <0:\n",
    "            self.x = 0\n",
    "    \n",
    "    def is_done(self):\n",
    "        if self.x ==3 and self.y ==3:\n",
    "            return True \n",
    "        else:\n",
    "            return False\n",
    "    \n",
    "    def get_state(self):\n",
    "        return (self.x, self.y)\n",
    "    \n",
    "    def reset(self):\n",
    "        self.x=0\n",
    "        self.y=0\n",
    "        return (self.x, self.y)\n",
    "    "
   ]
  },
  {
   "cell_type": "code",
   "execution_count": 4,
   "metadata": {},
   "outputs": [],
   "source": [
    "class Agent():\n",
    "    def __init__(self):\n",
    "        pass\n",
    "\n",
    "    def select_action(self):\n",
    "        coin = random.random()\n",
    "        if coin < 0.25:\n",
    "            action = 0\n",
    "        elif coin < 0.5:\n",
    "            action = 1\n",
    "        elif coin < 0.75:\n",
    "            action = 2\n",
    "        else:\n",
    "            action = 3\n",
    "        return action "
   ]
  },
  {
   "cell_type": "code",
   "execution_count": 5,
   "metadata": {},
   "outputs": [],
   "source": [
    "def main_MC():\n",
    "    env = GridWorld()\n",
    "    agent = Agent()\n",
    "    data = [[0,0,0,0],[0,0,0,0],[0,0,0,0],[0,0,0,0]]\n",
    "    gamma = 1.0\n",
    "    alpha = 0.0001\n",
    "\n",
    "    for k in range(50000):\n",
    "        done = False\n",
    "        history = []\n",
    "        while not done:\n",
    "            action = agent.select_action()\n",
    "            (x,y), reward, done = env.step(action)\n",
    "            history.append((x,y,reward))\n",
    "        env.reset\n",
    "\n",
    "        cum_reward = 0\n",
    "        for transition in history[::-1]:\n",
    "            x,y,reward = transition\n",
    "            data[x][y] = data[x][y] + alpha*(cum_reward - data[x][y])\n",
    "            cum_reward = cum_reward + gamma*reward\n",
    "        \n",
    "        for row in data:\n",
    "            print(row)    "
   ]
  },
  {
   "cell_type": "code",
   "execution_count": 6,
   "metadata": {},
   "outputs": [],
   "source": [
    "main_MC()"
   ]
  },
  {
   "cell_type": "code",
   "execution_count": null,
   "metadata": {},
   "outputs": [],
   "source": [
    "def main_TD():\n",
    "    env = GridWorld()\n",
    "    agent = Agent()\n",
    "    data = [[0,0,0,0],[0,0,0,0],[0,0,0,0],[0,0,0,0]]\n",
    "    gamma = 1.0\n",
    "    alpha = 0.01\n",
    "\n",
    "    for k in range(50000):\n",
    "        done = False\n",
    "        while not done:\n",
    "            x,y = env.get_state()\n",
    "            action = agent.select_action()\n",
    "            (x_prime, y_prime), reward, done = env.step(action)\n",
    "            x_prime, y_prime = env.get_state()\n",
    "            data[x][y] = data[x][y] + alpha*(reward + gamma*data[x_prime][y_prime] - data[x][y])\n",
    "        env.reset()\n",
    "\n",
    "    for row in data:\n",
    "        print(row)"
   ]
  },
  {
   "cell_type": "code",
   "execution_count": null,
   "metadata": {},
   "outputs": [
    {
     "ename": "NameError",
     "evalue": "name 'GridWorld' is not defined",
     "output_type": "error",
     "traceback": [
      "\u001b[0;31m---------------------------------------------------------------------------\u001b[0m",
      "\u001b[0;31mNameError\u001b[0m                                 Traceback (most recent call last)",
      "\u001b[1;32m/home/junpyolee/Git_Repository/RL_Study/Ch5/Practice.ipynb 셀 7\u001b[0m line \u001b[0;36m1\n\u001b[0;32m----> <a href='vscode-notebook-cell:/home/junpyolee/Git_Repository/RL_Study/Ch5/Practice.ipynb#X10sZmlsZQ%3D%3D?line=0'>1</a>\u001b[0m main_TD()\n",
      "\u001b[1;32m/home/junpyolee/Git_Repository/RL_Study/Ch5/Practice.ipynb 셀 7\u001b[0m line \u001b[0;36m2\n\u001b[1;32m      <a href='vscode-notebook-cell:/home/junpyolee/Git_Repository/RL_Study/Ch5/Practice.ipynb#X10sZmlsZQ%3D%3D?line=0'>1</a>\u001b[0m \u001b[39mdef\u001b[39;00m \u001b[39mmain_TD\u001b[39m():\n\u001b[0;32m----> <a href='vscode-notebook-cell:/home/junpyolee/Git_Repository/RL_Study/Ch5/Practice.ipynb#X10sZmlsZQ%3D%3D?line=1'>2</a>\u001b[0m     env \u001b[39m=\u001b[39m GridWorld()\n\u001b[1;32m      <a href='vscode-notebook-cell:/home/junpyolee/Git_Repository/RL_Study/Ch5/Practice.ipynb#X10sZmlsZQ%3D%3D?line=2'>3</a>\u001b[0m     agnet \u001b[39m=\u001b[39m Agent()\n\u001b[1;32m      <a href='vscode-notebook-cell:/home/junpyolee/Git_Repository/RL_Study/Ch5/Practice.ipynb#X10sZmlsZQ%3D%3D?line=3'>4</a>\u001b[0m     data \u001b[39m=\u001b[39m [[\u001b[39m0\u001b[39m,\u001b[39m0\u001b[39m,\u001b[39m0\u001b[39m,\u001b[39m0\u001b[39m],[\u001b[39m0\u001b[39m,\u001b[39m0\u001b[39m,\u001b[39m0\u001b[39m,\u001b[39m0\u001b[39m],[\u001b[39m0\u001b[39m,\u001b[39m0\u001b[39m,\u001b[39m0\u001b[39m,\u001b[39m0\u001b[39m]]\n",
      "\u001b[0;31mNameError\u001b[0m: name 'GridWorld' is not defined"
     ]
    }
   ],
   "source": [
    "main_TD()"
   ]
  },
  {
   "cell_type": "code",
   "execution_count": null,
   "metadata": {},
   "outputs": [],
   "source": [
    "def main_nstepTD():\n",
    "    env = GridWorld()\n",
    "    agent = Agent()\n",
    "    data = [[0,0,0,0],[0,0,0,0],[0,0,0,0],[0,0,0,0]]\n",
    "    \n",
    "    gamma = 1.0\n",
    "    alpha = 0.01\n",
    "\n",
    "    for k in range(50000):\n",
    "        done = False\n",
    "        while not done:\n",
    "            x,y = env.get_state()\n",
    "            action = agent.select_action()\n",
    "            (x_prime, y_prime), reward, done = env.step(action)\n",
    "            x_prime, y_prime = env.get_state()\n",
    "            action = agent.select_action()\n",
    "            (x_prime2, y_prime2), reward2, done = env.step(action)\n",
    "            x_prime2, y_prime2 = env.get_state()\n",
    "            data[x][y] = data[x][y] + alpha*(reward + gamma*reward2 + gamma^2*data[x_prime][y_prime] - data[x][y])\n",
    "        env.reset()\n",
    "\n",
    "    for row in data:\n",
    "        print(row)"
   ]
  }
 ],
 "metadata": {
  "kernelspec": {
   "display_name": "RL101",
   "language": "python",
   "name": "python3"
  },
  "language_info": {
   "codemirror_mode": {
    "name": "ipython",
    "version": 3
   },
   "file_extension": ".py",
   "mimetype": "text/x-python",
   "name": "python",
   "nbconvert_exporter": "python",
   "pygments_lexer": "ipython3",
   "version": "3.8.18"
  }
 },
 "nbformat": 4,
 "nbformat_minor": 2
}
